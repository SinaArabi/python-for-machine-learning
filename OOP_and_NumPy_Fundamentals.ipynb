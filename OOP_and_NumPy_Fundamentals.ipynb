{
  "nbformat": 4,
  "nbformat_minor": 0,
  "metadata": {
    "colab": {
      "provenance": []
    },
    "kernelspec": {
      "name": "python3",
      "display_name": "Python 3"
    },
    "language_info": {
      "name": "python"
    }
  },
  "cells": [
    {
      "cell_type": "markdown",
      "source": [
        "**Python Class**"
      ],
      "metadata": {
        "id": "7QKkpBX4YZgA"
      }
    },
    {
      "cell_type": "code",
      "source": [
        "class Dog:\n",
        "    species = \"puddle\"  # Class attribute\n",
        "\n",
        "    def __init__(self, name, age):\n",
        "        self.name = name  # Instance attribute\n",
        "        self.age = age  # Instance attribute\n"
      ],
      "metadata": {
        "id": "kmcc8n02YbSh"
      },
      "execution_count": 23,
      "outputs": []
    },
    {
      "cell_type": "code",
      "source": [
        "# Creating an object of the Dog class\n",
        "dog1 = Dog(\"Felfel\", 3)\n",
        "\n",
        "print(dog1.name)\n",
        "print(dog1.species)"
      ],
      "metadata": {
        "colab": {
          "base_uri": "https://localhost:8080/"
        },
        "id": "wBM3f1RuY7wv",
        "outputId": "712c75cd-347e-4da1-aebf-478d96b072bf"
      },
      "execution_count": 24,
      "outputs": [
        {
          "output_type": "stream",
          "name": "stdout",
          "text": [
            "Felfel\n",
            "puddle\n"
          ]
        }
      ]
    },
    {
      "cell_type": "code",
      "source": [
        "class Dog:\n",
        "\n",
        "    def __init__(self, name, age):\n",
        "        self.name = name\n",
        "        self.age = age\n",
        "\n",
        "    def get_age_in_human_years(self, coefficient):\n",
        "      return coefficient * self.age\n"
      ],
      "metadata": {
        "id": "H3hv1Ko_ZCyZ"
      },
      "execution_count": 25,
      "outputs": []
    },
    {
      "cell_type": "code",
      "source": [
        "dog2 = Dog(\"Namak\", 2)\n",
        "\n",
        "print(dog2.name)\n",
        "print(dog2.get_age_in_human_years(7))"
      ],
      "metadata": {
        "colab": {
          "base_uri": "https://localhost:8080/"
        },
        "id": "KRkpBfpYejDU",
        "outputId": "8e64f5ba-fa56-442e-925f-56a5f702200a"
      },
      "execution_count": 26,
      "outputs": [
        {
          "output_type": "stream",
          "name": "stdout",
          "text": [
            "Namak\n",
            "14\n"
          ]
        }
      ]
    },
    {
      "cell_type": "markdown",
      "source": [
        "**Python Encapsulation**"
      ],
      "metadata": {
        "id": "49AbQwx5ZXxN"
      }
    },
    {
      "cell_type": "markdown",
      "source": [
        "*   Public Members: Accessible from anywhere.\n",
        "*   Protected Members: Accessible within the class and its subclasses.\n",
        "*   Private Members: Accessible only within the class.\n"
      ],
      "metadata": {
        "id": "TWgkKRmYZb8e"
      }
    },
    {
      "cell_type": "code",
      "source": [
        "class Dog:\n",
        "    def __init__(self, name, breed, age):\n",
        "        self.name = name  # Public attribute\n",
        "        self._breed = breed  # Protected attribute\n",
        "        self.__age = age  # Private attribute\n",
        "\n",
        "    # Public method\n",
        "    def get_info(self):\n",
        "        return f\"Name: {self.name}, Breed: {self._breed}, Age: {self.__age}\"\n",
        "\n",
        "    # Getter and Setter for private attribute\n",
        "    def get_age(self):\n",
        "        return self.__age\n",
        "\n",
        "    def set_age(self, age):\n",
        "        if age > 0:\n",
        "            self.__age = age\n",
        "        else:\n",
        "            print(\"Invalid age!\")"
      ],
      "metadata": {
        "id": "TGA16BbzZbe7"
      },
      "execution_count": null,
      "outputs": []
    },
    {
      "cell_type": "code",
      "source": [
        "dog = Dog(\"Felfel\", \"Labrador\", 3)\n",
        "\n",
        "# Accessing public member\n",
        "print(dog.name)  # Accessible\n",
        "\n",
        "# Accessing protected member\n",
        "print(dog._breed)  # Accessible but discouraged outside the class\n",
        "\n",
        "# Accessing private member using getter\n",
        "print(dog.get_age())\n",
        "\n",
        "# Modifying private member using setter\n",
        "dog.set_age(5)\n",
        "print(dog.get_info())"
      ],
      "metadata": {
        "colab": {
          "base_uri": "https://localhost:8080/"
        },
        "id": "vSTRGA0aaWTC",
        "outputId": "9b25a443-a07e-4996-e15f-ffdcd9c8add3"
      },
      "execution_count": null,
      "outputs": [
        {
          "output_type": "stream",
          "name": "stdout",
          "text": [
            "Felfel\n",
            "Labrador\n",
            "3\n",
            "Name: Felfel, Breed: Labrador, Age: 5\n"
          ]
        }
      ]
    },
    {
      "cell_type": "markdown",
      "source": [
        "# **Data Processing**"
      ],
      "metadata": {
        "id": "MO_ncZcbGWt-"
      }
    },
    {
      "cell_type": "markdown",
      "source": [
        "**NumPy**"
      ],
      "metadata": {
        "id": "1iw8fWiXHaCv"
      }
    },
    {
      "cell_type": "code",
      "source": [
        "import numpy as np\n",
        "\n",
        "# Creating a 1D array\n",
        "x = np.array([1, 2, 3])\n",
        "\n",
        "# Creating a 2D array\n",
        "y = np.array([[1, 2], [3, 4]])\n",
        "\n",
        "# Creating a 3D array\n",
        "z = np.array([[[1, 2], [3, 4]], [[5, 6], [7, 8]]])\n",
        "\n",
        "print(x)\n",
        "print(\"############\")\n",
        "print(y)\n",
        "print(\"############\")\n",
        "print(z)\n"
      ],
      "metadata": {
        "colab": {
          "base_uri": "https://localhost:8080/"
        },
        "id": "G12xwC6uHrhS",
        "outputId": "9c5165ee-2b7f-493c-f407-0beff53c8c9c"
      },
      "execution_count": 3,
      "outputs": [
        {
          "output_type": "stream",
          "name": "stdout",
          "text": [
            "[1 2 3]\n",
            "############\n",
            "[[1 2]\n",
            " [3 4]]\n",
            "############\n",
            "[[[1 2]\n",
            "  [3 4]]\n",
            "\n",
            " [[5 6]\n",
            "  [7 8]]]\n"
          ]
        }
      ]
    },
    {
      "cell_type": "markdown",
      "source": [
        "## Checking Array Properties"
      ],
      "metadata": {
        "id": "e98fpE0BRRav"
      }
    },
    {
      "cell_type": "code",
      "source": [
        "arr = np.array([1, 2, 3, 4, 5])\n",
        "print('Shape:', arr.shape)\n",
        "print('Size:', arr.size)\n",
        "print('Data Type:', arr.dtype)"
      ],
      "metadata": {
        "colab": {
          "base_uri": "https://localhost:8080/"
        },
        "id": "A6RfB25KRRzd",
        "outputId": "847348ab-67fa-4506-c94d-e6cc6beb50f1"
      },
      "execution_count": 27,
      "outputs": [
        {
          "output_type": "stream",
          "name": "stdout",
          "text": [
            "Shape: (5,)\n",
            "Size: 5\n",
            "Data Type: int64\n"
          ]
        }
      ]
    },
    {
      "cell_type": "markdown",
      "source": [
        "##Numpy Functions"
      ],
      "metadata": {
        "id": "i4AzfA6rIgFy"
      }
    },
    {
      "cell_type": "code",
      "source": [
        "\n",
        "a1_zeros = np.zeros((3, 3))\n",
        "a2_ones = np.ones((2, 2))\n",
        "a3_range = np.arange(0, 10, 2)\n",
        "\n",
        "print(a1_zeros)\n",
        "print(a2_ones)\n",
        "print(a3_range)\n"
      ],
      "metadata": {
        "colab": {
          "base_uri": "https://localhost:8080/"
        },
        "id": "y3dUUtQiH0GH",
        "outputId": "fb1100ee-4aa8-4a09-c5a5-6438bd140d0e"
      },
      "execution_count": 4,
      "outputs": [
        {
          "output_type": "stream",
          "name": "stdout",
          "text": [
            "[[0. 0. 0.]\n",
            " [0. 0. 0.]\n",
            " [0. 0. 0.]]\n",
            "[[1. 1.]\n",
            " [1. 1.]]\n",
            "[0 2 4 6 8]\n"
          ]
        }
      ]
    },
    {
      "cell_type": "markdown",
      "source": [
        "NumPy Array Indexing"
      ],
      "metadata": {
        "id": "V6Gebb5DIjex"
      }
    },
    {
      "cell_type": "code",
      "source": [
        "# Create a 1D array\n",
        "arr1d = np.array([10, 20, 30, 40, 50])\n",
        "\n",
        "# Single element access\n",
        "print(\"Single element access:\", arr1d[2])\n",
        "\n",
        "# Negative indexing\n",
        "print(\"Negative indexing:\", arr1d[-1])\n",
        "\n",
        "# Create a 2D array\n",
        "arr2d = np.array([[1, 2, 3], [4, 5, 6], [7, 8, 9]])\n",
        "\n",
        "# Multidimensional array access\n",
        "print(\"Multidimensional array access:\", arr2d[1, 0])\n"
      ],
      "metadata": {
        "colab": {
          "base_uri": "https://localhost:8080/"
        },
        "id": "0H00KE4JIa8t",
        "outputId": "40d8d7eb-0b9c-4c6f-bc00-cf55aebca10e"
      },
      "execution_count": 5,
      "outputs": [
        {
          "output_type": "stream",
          "name": "stdout",
          "text": [
            "Single element access: 30\n",
            "Negative indexing: 50\n",
            "Multidimensional array access: 4\n"
          ]
        }
      ]
    },
    {
      "cell_type": "markdown",
      "source": [
        "Slicing"
      ],
      "metadata": {
        "id": "5HNmFzSXIyYV"
      }
    },
    {
      "cell_type": "code",
      "source": [
        "import numpy as np\n",
        "\n",
        "arr = np.array([[1, 2, 3], [4, 5, 6]])\n",
        "#elements from index 1 to 3\n",
        "print(\"Range of Elements:\",arr[1:4])\n",
        "\n",
        "#all rows, second column\n",
        "print(\"Multidimensional Slicing:\", arr[:, 1])\n"
      ],
      "metadata": {
        "colab": {
          "base_uri": "https://localhost:8080/"
        },
        "id": "PJJvjd-aIsrh",
        "outputId": "52ef4ce8-be97-4db6-fbad-865392bcc283"
      },
      "execution_count": 6,
      "outputs": [
        {
          "output_type": "stream",
          "name": "stdout",
          "text": [
            "Range of Elements: [[4 5 6]]\n",
            "Multidimensional Slicing: [2 5]\n"
          ]
        }
      ]
    },
    {
      "cell_type": "markdown",
      "source": [
        "Advanced Indexing"
      ],
      "metadata": {
        "id": "6DPa1N_1Jq57"
      }
    },
    {
      "cell_type": "code",
      "source": [
        "import numpy as np\n",
        "arr = np.array([10, 20, 30, 40, 50, 60, 70, 80, 90, -100])\n",
        "\n",
        "# Integer array indexing\n",
        "indices = np.array([1, 3, 5])\n",
        "print (\"Integer array indexing:\", arr[indices])\n",
        "\n",
        "# boolean array indexing\n",
        "cond = arr > 0\n",
        "print (\"\\nElements greater than 0:\\n\", arr[cond])\n"
      ],
      "metadata": {
        "colab": {
          "base_uri": "https://localhost:8080/"
        },
        "id": "B0dfoppNI0FF",
        "outputId": "2aa04b63-d9f7-43ab-e346-ad4218824e18"
      },
      "execution_count": 28,
      "outputs": [
        {
          "output_type": "stream",
          "name": "stdout",
          "text": [
            "Integer array indexing: [20 40 60]\n",
            "\n",
            "Elements greater than 0:\n",
            " [10 20 30 40 50 60 70 80 90]\n"
          ]
        }
      ]
    },
    {
      "cell_type": "markdown",
      "source": [
        "## Reshaping Arrays"
      ],
      "metadata": {
        "id": "uc925c3_Rme2"
      }
    },
    {
      "cell_type": "code",
      "source": [
        "arr2d = np.array([[1, 2, 3], [4, 5, 6]])\n",
        "reshaped = arr2d.reshape(3, 2)\n",
        "print(reshaped)"
      ],
      "metadata": {
        "colab": {
          "base_uri": "https://localhost:8080/"
        },
        "id": "uzhQJ6STRnop",
        "outputId": "60f75aad-544a-4892-ebd4-c2d1941b9011"
      },
      "execution_count": 29,
      "outputs": [
        {
          "output_type": "stream",
          "name": "stdout",
          "text": [
            "[[1 2]\n",
            " [3 4]\n",
            " [5 6]]\n"
          ]
        }
      ]
    },
    {
      "cell_type": "markdown",
      "source": [
        "**Basic Operations**"
      ],
      "metadata": {
        "id": "Vq-sq-wdJvsf"
      }
    },
    {
      "cell_type": "markdown",
      "source": [
        "Element-wise Operations"
      ],
      "metadata": {
        "id": "UfEvIrcFJ2ie"
      }
    },
    {
      "cell_type": "code",
      "source": [
        "import numpy as np\n",
        "\n",
        "x = np.array([1, 2, 3])\n",
        "y = np.array([4, 5, 6])\n",
        "\n",
        "# Addition\n",
        "add = x + y\n",
        "print(\"Addition:\",add)\n",
        "\n",
        "# Subtraction\n",
        "subtract = x - y\n",
        "print(\"substration:\",subtract)\n",
        "\n",
        "# Multiplication\n",
        "multiply = x * y\n",
        "print(\"multiplication:\",multiply)\n",
        "\n",
        "# Division\n",
        "divide = x / y\n",
        "print(\"division:\", divide)\n"
      ],
      "metadata": {
        "colab": {
          "base_uri": "https://localhost:8080/"
        },
        "id": "Sea8V5yuJsvA",
        "outputId": "e6a279fa-6b75-4589-d56a-baea7237ce0b"
      },
      "execution_count": 30,
      "outputs": [
        {
          "output_type": "stream",
          "name": "stdout",
          "text": [
            "Addition: [5 7 9]\n",
            "substration: [-3 -3 -3]\n",
            "multiplication: [ 4 10 18]\n",
            "division: [0.25 0.4  0.5 ]\n"
          ]
        }
      ]
    },
    {
      "cell_type": "markdown",
      "source": [
        "## Broadcasting in NumPy"
      ],
      "metadata": {
        "id": "J2DX7kVbR14M"
      }
    },
    {
      "cell_type": "code",
      "source": [
        "arr = np.array([1, 2, 3])\n",
        "print(arr + 10)  # Adds 10 to each element"
      ],
      "metadata": {
        "colab": {
          "base_uri": "https://localhost:8080/"
        },
        "id": "UMO4UocTR3oo",
        "outputId": "486d07a4-10c9-4bb6-80b6-cf9aaa571917"
      },
      "execution_count": 31,
      "outputs": [
        {
          "output_type": "stream",
          "name": "stdout",
          "text": [
            "[11 12 13]\n"
          ]
        }
      ]
    },
    {
      "cell_type": "markdown",
      "source": [
        "Unary Operation"
      ],
      "metadata": {
        "id": "Mj3auPDRJ9H3"
      }
    },
    {
      "cell_type": "code",
      "source": [
        "import numpy as np\n",
        "\n",
        "# Example array with both positive and negative values\n",
        "arr = np.array([-3, -1, 0, 1, 3])\n",
        "\n",
        "# Applying a unary operation: absolute value\n",
        "result = np.absolute(arr)\n",
        "print(\"Absolute value:\", result)\n"
      ],
      "metadata": {
        "colab": {
          "base_uri": "https://localhost:8080/"
        },
        "id": "-IXZ8UF8Jyfv",
        "outputId": "8348c6df-a307-41bb-cb7a-5c62971788c8"
      },
      "execution_count": 32,
      "outputs": [
        {
          "output_type": "stream",
          "name": "stdout",
          "text": [
            "Absolute value: [3 1 0 1 3]\n"
          ]
        }
      ]
    },
    {
      "cell_type": "markdown",
      "source": [
        "**NumPy ufuncs**"
      ],
      "metadata": {
        "id": "rGU6DyR_MVjd"
      }
    },
    {
      "cell_type": "code",
      "source": [
        "import numpy as np\n",
        "\n",
        "# create an array of sine values\n",
        "a = np.array([0, np.pi/2, np.pi])\n",
        "print (\"Sine values of array elements:\", np.sin(a))\n",
        "\n",
        "# exponential values\n",
        "a = np.array([0, 1, 2, 3])\n",
        "print (\"Exponent of array elements:\", np.exp(a))\n",
        "\n",
        "# square root of array values\n",
        "print (\"Square root of array elements:\", np.sqrt(a))\n"
      ],
      "metadata": {
        "colab": {
          "base_uri": "https://localhost:8080/"
        },
        "id": "Qs1v-Bk2LH8d",
        "outputId": "56fd6045-a9c5-4c1b-c491-01c0bf94e97d"
      },
      "execution_count": 17,
      "outputs": [
        {
          "output_type": "stream",
          "name": "stdout",
          "text": [
            "Sine values of array elements: [0.0000000e+00 1.0000000e+00 1.2246468e-16]\n",
            "Exponent of array elements: [ 1.          2.71828183  7.3890561  20.08553692]\n",
            "Square root of array elements: [0.         1.         1.41421356 1.73205081]\n"
          ]
        }
      ]
    },
    {
      "cell_type": "markdown",
      "source": [
        "**NumPy Sorting Arrays**"
      ],
      "metadata": {
        "id": "LhAugcMYMbUW"
      }
    },
    {
      "cell_type": "code",
      "source": [
        "import numpy as np\n",
        "\n",
        "# set alias names for dtypes\n",
        "dtypes = [('name', 'S10'), ('grad_year', int), ('cgpa', float)]\n",
        "\n",
        "# Values to be put in array\n",
        "values = [('Hrithik', 2009, 8.5), ('Ajay', 2008, 8.7),\n",
        "           ('Pankaj', 2008, 7.9), ('Aakash', 2009, 9.0)]\n",
        "\n",
        "# Creating array\n",
        "arr = np.array(values, dtype = dtypes)\n",
        "print (\"\\nArray sorted by names:\\n\",\n",
        "            np.sort(arr, order = 'name'))\n",
        "\n",
        "print (\"Array sorted by graduation year and then cgpa:\\n\",\n",
        "                np.sort(arr, order = ['grad_year', 'cgpa']))\n"
      ],
      "metadata": {
        "colab": {
          "base_uri": "https://localhost:8080/"
        },
        "id": "bDDyGal_MakC",
        "outputId": "b7fc05df-7907-410f-b64c-d8e85d9c1a63"
      },
      "execution_count": 22,
      "outputs": [
        {
          "output_type": "stream",
          "name": "stdout",
          "text": [
            "\n",
            "Array sorted by names:\n",
            " [(b'Aakash', 2009, 9. ) (b'Ajay', 2008, 8.7) (b'Hrithik', 2009, 8.5)\n",
            " (b'Pankaj', 2008, 7.9)]\n",
            "Array sorted by graduation year and then cgpa:\n",
            " [(b'Pankaj', 2008, 7.9) (b'Ajay', 2008, 8.7) (b'Hrithik', 2009, 8.5)\n",
            " (b'Aakash', 2009, 9. )]\n"
          ]
        }
      ]
    }
  ]
}
